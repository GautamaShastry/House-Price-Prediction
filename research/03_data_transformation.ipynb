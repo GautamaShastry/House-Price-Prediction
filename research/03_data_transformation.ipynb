{
 "cells": [
  {
   "cell_type": "code",
   "execution_count": 90,
   "metadata": {},
   "outputs": [],
   "source": [
    "import os"
   ]
  },
  {
   "cell_type": "code",
   "execution_count": 91,
   "metadata": {},
   "outputs": [
    {
     "data": {
      "text/plain": [
       "'e:\\\\'"
      ]
     },
     "execution_count": 91,
     "metadata": {},
     "output_type": "execute_result"
    }
   ],
   "source": [
    "%pwd"
   ]
  },
  {
   "cell_type": "code",
   "execution_count": 92,
   "metadata": {},
   "outputs": [],
   "source": [
    "os.chdir(\"House-Price-Prediction\")"
   ]
  },
  {
   "cell_type": "code",
   "execution_count": 93,
   "metadata": {},
   "outputs": [
    {
     "data": {
      "text/plain": [
       "'e:\\\\House-Price-Prediction'"
      ]
     },
     "execution_count": 93,
     "metadata": {},
     "output_type": "execute_result"
    }
   ],
   "source": [
    "%pwd"
   ]
  },
  {
   "cell_type": "code",
   "execution_count": 95,
   "metadata": {},
   "outputs": [],
   "source": [
    "from dataclasses import dataclass\n",
    "from pathlib import Path\n",
    "\n",
    "@dataclass(frozen=True)\n",
    "class DataTransformationConfig:\n",
    "    root_dir: Path\n",
    "    data_path: Path"
   ]
  },
  {
   "cell_type": "code",
   "execution_count": 96,
   "metadata": {},
   "outputs": [],
   "source": [
    "from mlProject.constants import *\n",
    "from mlProject.utils.common import read_yaml, create_directories"
   ]
  },
  {
   "cell_type": "code",
   "execution_count": 97,
   "metadata": {},
   "outputs": [],
   "source": [
    "class ConfigManager:\n",
    "    def __init__(\n",
    "        self,\n",
    "        config_filepath = CONFIG_FILE_PATH,\n",
    "        params_filepath = PARAMS_FILE_PATH,\n",
    "        schema_filepath = SCHEMA_FILE_PATH):\n",
    "        \n",
    "        self.config = read_yaml(config_filepath)\n",
    "        self.params = read_yaml(params_filepath)\n",
    "        self.schema = read_yaml(schema_filepath)\n",
    "        \n",
    "        create_directories([self.config.data_root])\n",
    "        \n",
    "    def get_transformation_config(self) -> DataTransformationConfig:\n",
    "        config = self.config.data_transformation\n",
    "        \n",
    "        create_directories([config.root_dir])\n",
    "        \n",
    "        data_transformation_config = DataTransformationConfig(\n",
    "            root_dir=config.root_dir,\n",
    "            data_path=config.data_path\n",
    "        )\n",
    "        \n",
    "        return data_transformation_config\n",
    "        \n",
    "        "
   ]
  },
  {
   "cell_type": "code",
   "execution_count": 98,
   "metadata": {},
   "outputs": [],
   "source": [
    "import os\n",
    "from mlProject import logger\n",
    "from sklearn.model_selection import train_test_split\n",
    "import pandas as pd"
   ]
  },
  {
   "cell_type": "code",
   "execution_count": 100,
   "metadata": {},
   "outputs": [],
   "source": [
    "class DataTransformation:\n",
    "    def __init__(self, config: DataTransformationConfig):\n",
    "        self.config = config\n",
    "    \n",
    "    def clean_data(self, data):\n",
    "        # Perform data cleaning operations here\n",
    "        cleaned_data = data.dropna(subset=['total_bedrooms'])\n",
    "        return cleaned_data\n",
    "    \n",
    "    def handle_categorical_data(self, data):\n",
    "        # Perform categorical data handling operations here\n",
    "        processed_data = pd.get_dummies(data, columns=['ocean_proximity'])\n",
    "        return processed_data\n",
    "\n",
    "    def train_test_splitting(self):\n",
    "        data = pd.read_csv(self.config.data_path)\n",
    "        \n",
    "        # data cleaning(drop all rows with missing values)\n",
    "        cleaned_data = self.clean_data(data)\n",
    "        \n",
    "        # Handling categorical data\n",
    "        processed_data = self.handle_categorical_data(cleaned_data)\n",
    "        \n",
    "        # Split the data into training and testing sets, (0.9,0.1) splits.\n",
    "        train, test = train_test_split(processed_data, test_size=0.1)\n",
    "\n",
    "        train.to_csv(os.path.join(self.config.root_dir, \"train.csv\"), index=False)\n",
    "        test.to_csv(os.path.join(self.config.root_dir, \"test.csv\"), index=False)\n",
    "\n",
    "        logger.info(\"splitted data into training and testing sets\")\n",
    "        logger.info(train.shape)\n",
    "        logger.info(test.shape)\n",
    "\n",
    "        print(train.shape)\n",
    "        print(test.shape)\n",
    "        print(train.head())\n",
    "        \n",
    "        "
   ]
  },
  {
   "cell_type": "code",
   "execution_count": 102,
   "metadata": {},
   "outputs": [
    {
     "name": "stdout",
     "output_type": "stream",
     "text": [
      "[2024-07-06 11:37:15,582: INFO: common: yaml file: config\\config.yaml loaded successfully]\n",
      "[2024-07-06 11:37:15,585: INFO: common: yaml file: params.yaml loaded successfully]\n",
      "[2024-07-06 11:37:15,602: INFO: common: yaml file: schema.yaml loaded successfully]\n",
      "[2024-07-06 11:37:15,603: INFO: common: created directory at: data]\n",
      "[2024-07-06 11:37:15,604: INFO: common: created directory at: data/data_transformation]\n",
      "[2024-07-06 11:37:15,762: INFO: 1859079250: splitted data into training and testing sets]\n",
      "[2024-07-06 11:37:15,762: INFO: 1859079250: (18389, 14)]\n",
      "[2024-07-06 11:37:15,762: INFO: 1859079250: (2044, 14)]\n",
      "(18389, 14)\n",
      "(2044, 14)\n",
      "       longitude  latitude  housing_median_age  total_rooms  total_bedrooms  \\\n",
      "17971    -121.95     37.32                39.0       1164.0           199.0   \n",
      "8761     -118.38     33.82                34.0       1822.0           364.0   \n",
      "12226    -116.92     33.63                18.0        397.0            89.0   \n",
      "18008    -121.97     37.29                25.0       4096.0           743.0   \n",
      "642      -122.14     37.73                38.0       1723.0           394.0   \n",
      "\n",
      "       population  households  median_income  median_house_value  \\\n",
      "17971       619.0       231.0         4.6304            263200.0   \n",
      "8761        750.0       366.0         5.9907            500001.0   \n",
      "12226       239.0        80.0         2.8125            143800.0   \n",
      "18008      2027.0       741.0         5.3294            300300.0   \n",
      "642         711.0       353.0         3.0673            218400.0   \n",
      "\n",
      "       ocean_proximity_<1H OCEAN  ocean_proximity_INLAND  \\\n",
      "17971                       True                   False   \n",
      "8761                       False                   False   \n",
      "12226                      False                    True   \n",
      "18008                       True                   False   \n",
      "642                        False                   False   \n",
      "\n",
      "       ocean_proximity_ISLAND  ocean_proximity_NEAR BAY  \\\n",
      "17971                   False                     False   \n",
      "8761                    False                     False   \n",
      "12226                   False                     False   \n",
      "18008                   False                     False   \n",
      "642                     False                      True   \n",
      "\n",
      "       ocean_proximity_NEAR OCEAN  \n",
      "17971                       False  \n",
      "8761                         True  \n",
      "12226                       False  \n",
      "18008                       False  \n",
      "642                         False  \n"
     ]
    }
   ],
   "source": [
    "\n",
    "try:\n",
    "    config = ConfigManager()\n",
    "    data_transformation_config = config.get_transformation_config()\n",
    "    data_transformation = DataTransformation(config=data_transformation_config)\n",
    "    data_transformation.train_test_splitting()\n",
    "except Exception as e:\n",
    "    raise e"
   ]
  },
  {
   "cell_type": "code",
   "execution_count": null,
   "metadata": {},
   "outputs": [],
   "source": []
  }
 ],
 "metadata": {
  "kernelspec": {
   "display_name": "Python 3",
   "language": "python",
   "name": "python3"
  },
  "language_info": {
   "codemirror_mode": {
    "name": "ipython",
    "version": 3
   },
   "file_extension": ".py",
   "mimetype": "text/x-python",
   "name": "python",
   "nbconvert_exporter": "python",
   "pygments_lexer": "ipython3",
   "version": "3.12.0"
  }
 },
 "nbformat": 4,
 "nbformat_minor": 2
}
